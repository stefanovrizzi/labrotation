{
 "cells": [
  {
   "cell_type": "code",
   "execution_count": null,
   "metadata": {},
   "outputs": [],
   "source": [
    "#https://creativecommons.org/licenses/by/4.0/"
   ]
  },
  {
   "cell_type": "markdown",
   "metadata": {},
   "source": [
    "This file aims at creating a useful pandas-based dataframework for each subject."
   ]
  },
  {
   "cell_type": "markdown",
   "metadata": {},
   "source": [
    "## Import libraries"
   ]
  },
  {
   "cell_type": "code",
   "execution_count": 1,
   "metadata": {},
   "outputs": [],
   "source": [
    "import matplotlib.pyplot as plt\n",
    "import matplotlib.cm as cm\n",
    "from mpl_toolkits.axes_grid1 import make_axes_locatable\n",
    "import numpy as np\n",
    "import scipy.io\n",
    "import pandas as pd\n",
    "from glob import glob\n",
    "import os\n",
    "import time\n",
    "from scipy import signal\n",
    "import csv"
   ]
  },
  {
   "cell_type": "code",
   "execution_count": 2,
   "metadata": {},
   "outputs": [],
   "source": [
    "import pylab"
   ]
  },
  {
   "cell_type": "markdown",
   "metadata": {},
   "source": [
    "Channels and sampling frequency"
   ]
  },
  {
   "cell_type": "code",
   "execution_count": 3,
   "metadata": {},
   "outputs": [],
   "source": [
    "fs = 2048 #Hz, sampling frequency\n",
    "n_ch = 8 #channles in one row (or column) of one set\n",
    "n_ch_tot = (n_ch**2)*3 #total channels"
   ]
  },
  {
   "cell_type": "markdown",
   "metadata": {},
   "source": [
    "# Data"
   ]
  },
  {
   "cell_type": "markdown",
   "metadata": {},
   "source": [
    "Create dataframe"
   ]
  },
  {
   "cell_type": "code",
   "execution_count": 4,
   "metadata": {},
   "outputs": [],
   "source": [
    "columns = ['task','trial',\n",
    "           'set1','set2','set3',\n",
    "          't_steps', 'time_duration']#,\n",
    "           #'info', 'side','gain','filt_parameters','notes']\n",
    "        #to add further info\n",
    "\n",
    "#add channels as predictors\n",
    "\n",
    "for i in range(n_ch_tot):\n",
    "    columns.append('ch'+str(i+1),)\n",
    "\n",
    "df = pd.DataFrame(columns=columns)\n",
    "\n",
    "ch_col = df.columns[ df.columns.get_loc('ch1') : df.columns.get_loc('ch1') + n_ch_tot]"
   ]
  },
  {
   "cell_type": "markdown",
   "metadata": {},
   "source": [
    "Select tasks"
   ]
  },
  {
   "cell_type": "code",
   "execution_count": 5,
   "metadata": {},
   "outputs": [],
   "source": [
    "task_names = [#'iso',\n",
    "              'bottle',\n",
    "              'screw',\n",
    "              'knife',\n",
    "              'hammer',\n",
    "              'peg',\n",
    "              #'free_eating',\n",
    "              'jar', \n",
    "              'typing']\n",
    "              #'swing']"
   ]
  },
  {
   "cell_type": "markdown",
   "metadata": {},
   "source": [
    "Choose subject"
   ]
  },
  {
   "cell_type": "code",
   "execution_count": 6,
   "metadata": {},
   "outputs": [],
   "source": [
    "folder = '20181024_KONSENS_recordings/S2/'"
   ]
  },
  {
   "cell_type": "markdown",
   "metadata": {},
   "source": [
    "Load selected tasks from chosen subject into dataframe"
   ]
  },
  {
   "cell_type": "code",
   "execution_count": 7,
   "metadata": {},
   "outputs": [
    {
     "name": "stdout",
     "output_type": "stream",
     "text": [
      "20181024_KONSENS_recordings/S2\\400VrStSt181024145603_bottle1_wrong movement.mat\n",
      "20181024_KONSENS_recordings/S2\\400VrStSt181024145604_bottle2.mat\n",
      "20181024_KONSENS_recordings/S2\\400VrStSt181024145605_bottle3.mat\n",
      "20181024_KONSENS_recordings/S2\\400VrStSt181024145606_bottle4.mat\n",
      "20181024_KONSENS_recordings/S2\\400VrStSt181024145607_bottle5.mat\n",
      "20181024_KONSENS_recordings/S2\\400VrStSt181024145608_bottle6.mat\n",
      "20181024_KONSENS_recordings/S2\\400VrStSt181024145609_bottle7.mat\n",
      "20181024_KONSENS_recordings/S2\\400VrStSt181024145610_screw1.mat\n",
      "20181024_KONSENS_recordings/S2\\400VrStSt181024145611_screw2.mat\n",
      "20181024_KONSENS_recordings/S2\\400VrStSt181024145612_screw3.mat\n",
      "20181024_KONSENS_recordings/S2\\400VrStSt181024145613_screw4.mat\n",
      "20181024_KONSENS_recordings/S2\\400VrStSt181024145614_screw5.mat\n",
      "20181024_KONSENS_recordings/S2\\400VrStSt181024145615_knife1.mat\n",
      "20181024_KONSENS_recordings/S2\\400VrStSt181024145616_knife2.mat\n",
      "20181024_KONSENS_recordings/S2\\400VrStSt181024145617_knife3.mat\n",
      "20181024_KONSENS_recordings/S2\\400VrStSt181024145618_knife4.mat\n",
      "20181024_KONSENS_recordings/S2\\400VrStSt181024145619_knife5.mat\n",
      "20181024_KONSENS_recordings/S2\\400VrStSt181024145620_hammer1.mat\n",
      "20181024_KONSENS_recordings/S2\\400VrStSt181024145621_hammer2.mat\n",
      "20181024_KONSENS_recordings/S2\\400VrStSt181024145622_hammer3.mat\n",
      "20181024_KONSENS_recordings/S2\\400VrStSt181024145623_hammer4.mat\n",
      "20181024_KONSENS_recordings/S2\\400VrStSt181024145624_hammer5.mat\n",
      "20181024_KONSENS_recordings/S2\\400VrStSt181024145625_peg1.mat\n",
      "20181024_KONSENS_recordings/S2\\400VrStSt181024145626_peg2.mat\n",
      "20181024_KONSENS_recordings/S2\\400VrStSt181024145627_peg3.mat\n",
      "20181024_KONSENS_recordings/S2\\400VrStSt181024145628_peg4.mat\n",
      "20181024_KONSENS_recordings/S2\\400VrStSt181024145629_peg5.mat\n",
      "20181024_KONSENS_recordings/S2\\400VrStSt181024145631_jar1.mat\n",
      "20181024_KONSENS_recordings/S2\\400VrStSt181024145632_jar2.mat\n",
      "20181024_KONSENS_recordings/S2\\400VrStSt181024145633_jar3.mat\n",
      "20181024_KONSENS_recordings/S2\\400VrStSt181024145634_jar4.mat\n",
      "20181024_KONSENS_recordings/S2\\400VrStSt181024145635_jar5.mat\n"
     ]
    }
   ],
   "source": [
    "file_list = []\n",
    "task_list_name = []\n",
    "task_list_num = []\n",
    "\n",
    "for task_num, task_name in enumerate(task_names):\n",
    "    \n",
    "    file_list_temp = glob(os.path.join(folder, '*'+task_name+'*.mat'))\n",
    "    file_list.extend(file_list_temp)\n",
    "    task_list_name.extend((task_name,)*np.size(file_list_temp))\n",
    "    task_list_num.extend(range(np.size(file_list_temp)))\n",
    "                      \n",
    "for file_num, file_name in enumerate(file_list):\n",
    "    print (file_name) #print loaded files\n",
    "    mat = scipy.io.loadmat(file_name)\n",
    "    set1_temp = np.array(mat[\"EMG_array\"][0][0]['data'][0][0]) #first or second index? check with trial 1\n",
    "    set2_temp = np.array(mat[\"EMG_array\"][0][1]['data'][0][0])\n",
    "    set3_temp = np.array(mat[\"EMG_array\"][0][2]['data'][0][0])\n",
    "        \n",
    "    set1 = [] #batches to reshape data in 64 x time_steps matrices\n",
    "    set2 = []\n",
    "    set3 = []\n",
    "        \n",
    "    for i in range(n_ch):\n",
    "        for j in range(n_ch):\n",
    "            set1.append(np.squeeze(set1_temp[i][j]))\n",
    "            set2.append(np.squeeze(set2_temp[i][j]))\n",
    "            set3.append(np.squeeze(set3_temp[i][j]))\n",
    "        \n",
    "    df = df.append({'set1': set1, 'set2': set2, 'set3': set3,\n",
    "                    't_steps': np.size(mat[\"EMG_array\"][0][0]['data'][0][0][0][0])},\n",
    "                    ignore_index=True)\n",
    "\n",
    "df['task'] = task_list_name\n",
    "df['trial'] = task_list_num"
   ]
  },
  {
   "cell_type": "code",
   "execution_count": 8,
   "metadata": {},
   "outputs": [],
   "source": [
    "#df = df.drop(df.index[[0]])"
   ]
  },
  {
   "cell_type": "markdown",
   "metadata": {},
   "source": [
    "Add time duration in seconds"
   ]
  },
  {
   "cell_type": "code",
   "execution_count": 9,
   "metadata": {},
   "outputs": [],
   "source": [
    "df['time_duration'] = (df['t_steps']/fs).astype(int)"
   ]
  },
  {
   "cell_type": "markdown",
   "metadata": {},
   "source": [
    "Adding single channels as columns"
   ]
  },
  {
   "cell_type": "code",
   "execution_count": 10,
   "metadata": {},
   "outputs": [],
   "source": [
    "df['set'] = df[['set1','set2','set3']].apply(lambda x: np.concatenate(x),axis=1)\n",
    "df[ch_col.tolist()] = [df['set'][trialN].tolist() for trialN in df.index]"
   ]
  },
  {
   "cell_type": "markdown",
   "metadata": {},
   "source": [
    "# Examples to index data"
   ]
  },
  {
   "cell_type": "code",
   "execution_count": null,
   "metadata": {},
   "outputs": [],
   "source": [
    "df"
   ]
  },
  {
   "cell_type": "markdown",
   "metadata": {},
   "source": [
    "Example to locate knife trials on original dataframe:"
   ]
  },
  {
   "cell_type": "code",
   "execution_count": null,
   "metadata": {},
   "outputs": [],
   "source": [
    "df[df.task=='bottle']"
   ]
  },
  {
   "cell_type": "markdown",
   "metadata": {},
   "source": [
    "Locate total trials in knife task, and refer to specific trial index:"
   ]
  },
  {
   "cell_type": "code",
   "execution_count": null,
   "metadata": {},
   "outputs": [],
   "source": [
    "print (np.size(df[df.task=='knife'].trial))\n",
    "df[df.task=='bottle'].trial.iloc[0] #trial 1 in knife"
   ]
  },
  {
   "cell_type": "markdown",
   "metadata": {},
   "source": [
    "Locate 8x8 recordings for specific task and set across trials:"
   ]
  },
  {
   "cell_type": "code",
   "execution_count": null,
   "metadata": {},
   "outputs": [],
   "source": [
    "TASK_NAME = 'bottle'\n",
    "setN = 'set1'\n",
    "trialN = 3\n",
    "channelN = 54\n",
    "df[df.task==TASK_NAME][setN][trialN][channelN]"
   ]
  },
  {
   "cell_type": "markdown",
   "metadata": {},
   "source": [
    "Plot signal"
   ]
  },
  {
   "cell_type": "code",
   "execution_count": null,
   "metadata": {},
   "outputs": [],
   "source": [
    "trace = df[df.task==TASK_NAME][setN][trialN][channelN]\n",
    "time = np.linspace(0, round(np.size(trace)/fs), np.size(trace))\n",
    "\n",
    "ax = plt.figure\n",
    "plt.plot(time, trace, color='k')\n",
    "plt.xlabel('Time (s)')\n",
    "plt.ylabel('Voltage (mV)')\n",
    "plt.show()"
   ]
  },
  {
   "cell_type": "markdown",
   "metadata": {},
   "source": [
    "Alternatively"
   ]
  },
  {
   "cell_type": "code",
   "execution_count": null,
   "metadata": {},
   "outputs": [],
   "source": [
    "TASK_NAME = 'bottle'\n",
    "trialN = 4\n",
    "channelN = 'ch160'\n",
    "df[df.task==TASK_NAME][channelN].iloc[trialN]\n",
    "\n",
    "trace = df[df.task==TASK_NAME][channelN].iloc[trialN]\n",
    "time = np.linspace(0, round(np.size(trace)/fs), np.size(trace))\n",
    "\n",
    "ax = plt.figure\n",
    "plt.plot(time, trace, color='k')\n",
    "plt.xlabel('Time (s)')\n",
    "plt.ylabel('Voltage (mV)')\n",
    "plt.show()"
   ]
  },
  {
   "cell_type": "markdown",
   "metadata": {},
   "source": [
    "Time-step duration"
   ]
  },
  {
   "cell_type": "code",
   "execution_count": null,
   "metadata": {},
   "outputs": [],
   "source": [
    "#in bottle task, trial 3\n",
    "print (df[df.task=='bottle'].t_steps.iloc[2])\n",
    "print (df[df.task=='bottle']['t_steps'][3]) #index change"
   ]
  },
  {
   "cell_type": "markdown",
   "metadata": {},
   "source": [
    "# Plot trials"
   ]
  },
  {
   "cell_type": "markdown",
   "metadata": {},
   "source": [
    "### Layout reflecting electrode array disposition"
   ]
  },
  {
   "cell_type": "code",
   "execution_count": null,
   "metadata": {},
   "outputs": [],
   "source": [
    "trialN = 0\n",
    "\n",
    "y_lim = df[ch_col].loc[trialN].apply( lambda x: max(x) ).max()\n",
    "\n",
    "plt.figure(figsize=(12, 10))\n",
    "\n",
    "for ch in range(n_ch**2):\n",
    "        \n",
    "        channelN = 'ch'+str(ch+1)\n",
    "        ax = plt.subplot(n_ch,n_ch,ch+1)\n",
    "        ax.plot(df[channelN].loc[trialN],\n",
    "                color='k',\n",
    "                linewidth=.5)\n",
    "        ax.set_axis_off()\n",
    "        ax.set_title(ch+1)\n",
    "        ax.set_ylim([0, y_lim])\n",
    "plt.tight_layout\n",
    "plt.show()\n",
    "\n",
    "\n",
    "plt.figure(figsize=(12, 10))\n",
    "\n",
    "#for ch in range((n_ch**2),2*(n_ch**2)):\n",
    "for ch in range(n_ch**2):\n",
    "        \n",
    "        channelN = 'ch'+str(ch+1+(n_ch**2))\n",
    "        ax = plt.subplot(n_ch,n_ch,ch+1)\n",
    "        ax.plot(df[channelN].loc[trialN],\n",
    "                color='b',\n",
    "                linewidth=.5)\n",
    "        ax.set_axis_off()\n",
    "        ax.set_title(ch+1+(n_ch**2))\n",
    "        ax.set_ylim([0, y_lim])\n",
    "plt.tight_layout\n",
    "plt.show()\n",
    "\n",
    "\n",
    "plt.figure(figsize=(12, 10))\n",
    "\n",
    "#for ch in range(2*(n_ch**2), n_ch_tot):\n",
    "for ch in range(n_ch**2):\n",
    "        \n",
    "        channelN = 'ch'+str(ch+1+2*(n_ch**2))\n",
    "        ax = plt.subplot(n_ch,n_ch,ch+1)\n",
    "        ax.plot(df[channelN].loc[trialN],\n",
    "                color='r',\n",
    "                linewidth=.5)\n",
    "        ax.set_axis_off()\n",
    "        ax.set_title(ch+1+2*(n_ch**2))\n",
    "        ax.set_ylim([0, y_lim]) #max of 64\n",
    "        \n",
    "plt.tight_layout\n",
    "plt.show()"
   ]
  },
  {
   "cell_type": "markdown",
   "metadata": {},
   "source": [
    "# Inspect traces (channels with artifacts for each trial)"
   ]
  },
  {
   "cell_type": "markdown",
   "metadata": {},
   "source": [
    "## Manual list"
   ]
  },
  {
   "cell_type": "markdown",
   "metadata": {},
   "source": [
    "By plotting traces trial by trial (see 'Plot trials')"
   ]
  },
  {
   "cell_type": "code",
   "execution_count": null,
   "metadata": {},
   "outputs": [],
   "source": [
    "chN_del = [\n",
    "[1, 2, 9, 5, 6, 7, 14, 15, 17, 33, 73, 74, 81, 82, 89, 137], #trial_0 #list.extend(range(145, 163))\n",
    "[1, 2, 73, 74, 81, 82, 89 ], #trial_1\n",
    "[150, 151], #trial_2\n",
    "[2, 137], #trial_3\n",
    "[ ], #trial_4\n",
    "[154, 155], #trial_5\n",
    "[ ], #trial_6\n",
    "[156, 157], #trial_7\n",
    "[ ], #trial_8\n",
    "[2, 137, 147, 148, 149, 150, 151, 154, 155, 156, 157, 158, 159, 160, 161, 162], #trial_9\n",
    "[ ], #trial_10\n",
    "[ ], #trial_11\n",
    "[ ], #trial_12\n",
    "[ ], #trial_13\n",
    "[ ], #trial_14\n",
    "[158, 159], #trial_15\n",
    "[ ], #trial_16\n",
    "[ ], #trial_17\n",
    "[ ], #trial_18\n",
    "[ ], #trial_19\n",
    "[ ], #trial_20\n",
    "[ ], #trial_21\n",
    "[ ], #trial_22\n",
    "[ ], #trial_23\n",
    "[ ], #trial_24\n",
    "[ ], #trial_25\n",
    "[ ], #trial_26\n",
    "[ ], #trial_27\n",
    "[ ], #trial_28\n",
    "[ ], #trial_29\n",
    "[ ], #trial_30\n",
    "[ ], #trial_31\n",
    "[ ], #trial_32\n",
    "[ ], #trial_33\n",
    "[2, 137, 147, 148, 149], #trial_34\n",
    "]"
   ]
  },
  {
   "cell_type": "markdown",
   "metadata": {},
   "source": [
    "Save faulty traces per trial in dataframes"
   ]
  },
  {
   "cell_type": "code",
   "execution_count": null,
   "metadata": {},
   "outputs": [],
   "source": [
    "df['chN_del'] = [chN_del[trialN] for trialN in df.index] # number of bad channels - integers (from manual list)\n",
    "ch_del = [['ch'+str(i) for i in df['chN_del'][trialN]] for trialN in df.index] # bad channels - strings\n",
    "df['ch_del'] = ch_del"
   ]
  },
  {
   "cell_type": "markdown",
   "metadata": {},
   "source": [
    "Dataframe with 0s and 1s for bad and good channels"
   ]
  },
  {
   "cell_type": "code",
   "execution_count": null,
   "metadata": {},
   "outputs": [],
   "source": [
    "df_ch = pd.DataFrame(1, columns=ch_col, index=df.index)\n",
    "for trialN in df.index:\n",
    "    df_ch.at[trialN, ch_del[trialN]] = [0 for i in ch_del[trialN]] # 0-ing boxes for bad channels"
   ]
  },
  {
   "cell_type": "markdown",
   "metadata": {},
   "source": [
    "## Semi-automated lists"
   ]
  },
  {
   "cell_type": "markdown",
   "metadata": {},
   "source": [
    "### 1) Trace exceeds v% of max(V) for P% of time of a given trial"
   ]
  },
  {
   "cell_type": "code",
   "execution_count": 11,
   "metadata": {},
   "outputs": [],
   "source": [
    "P = .01 # normalised 0 to 1\n",
    "v = .1 # normalised 0 to 1"
   ]
  },
  {
   "cell_type": "markdown",
   "metadata": {},
   "source": [
    "Compute max(V) values for each trial and plot distribution of such limits"
   ]
  },
  {
   "cell_type": "code",
   "execution_count": 12,
   "metadata": {},
   "outputs": [],
   "source": [
    "y_lim = [df[ch_col].loc[trialN].apply( lambda x: max(x) ).max() for trialN in df.index] #find max values per trial"
   ]
  },
  {
   "cell_type": "code",
   "execution_count": 13,
   "metadata": {},
   "outputs": [
    {
     "data": {
      "image/png": "[encoded data removed]",
      "text/plain": [
       "<Figure size 432x288 with 1 Axes>"
      ]
     },
     "metadata": {
      "needs_background": "light"
     },
     "output_type": "display_data"
    }
   ],
   "source": [
    "counts = plt.hist(y_lim, bins=len(df.index), density=True, color='k')\n",
    "plt.xlabel('V (mV)')\n",
    "plt.ylabel('Frequency')\n",
    "plt.show()"
   ]
  },
  {
   "cell_type": "markdown",
   "metadata": {},
   "source": [
    "Compute dataframe with sums of exceeding times and save it as file (this is time-consuming, see saved files)"
   ]
  },
  {
   "cell_type": "code",
   "execution_count": 14,
   "metadata": {},
   "outputs": [],
   "source": [
    "#ch_list = []\n",
    "#s = []\n",
    "\n",
    "#for trialN in df.index:\n",
    "#    s.append([sum(abs(np.array(df[ch][trialN]))>=y_lim[trialN]*v) for ch in ch_col])\n",
    "\n",
    "#S = pd.DataFrame(s)\n",
    "#S.to_csv(folder+'s_10')"
   ]
  },
  {
   "cell_type": "markdown",
   "metadata": {},
   "source": [
    "Load saved file"
   ]
  },
  {
   "cell_type": "code",
   "execution_count": 15,
   "metadata": {},
   "outputs": [],
   "source": [
    "S = pd.read_csv(folder+'s_'+str(int(v*100)), index_col=0)"
   ]
  },
  {
   "cell_type": "markdown",
   "metadata": {},
   "source": [
    "Compute which traces exceed voltage for enough time"
   ]
  },
  {
   "cell_type": "code",
   "execution_count": 16,
   "metadata": {},
   "outputs": [],
   "source": [
    "df_ch_list = [S.loc[trialN].apply( lambda x: x>(P*df['t_steps'][trialN]) ) for trialN in df.index]"
   ]
  },
  {
   "cell_type": "markdown",
   "metadata": {},
   "source": [
    "### 2) First derivative"
   ]
  },
  {
   "cell_type": "code",
   "execution_count": null,
   "metadata": {},
   "outputs": [],
   "source": [
    "s = 0\n",
    "plt.figure()\n",
    "for trialN in range(1): #df.index:\n",
    "    for ch in ch_col:\n",
    "        der = abs(np.array(df[ch][trialN][1:]))-abs(np.array(df[ch][trialN][0:-1]))\n",
    "        s = s+(sum(der>1000)>=1)\n",
    "        plt.plot(der)\n",
    "plt.ylim([0, 3000])        \n",
    "plt.show()"
   ]
  },
  {
   "cell_type": "code",
   "execution_count": null,
   "metadata": {},
   "outputs": [],
   "source": [
    "s"
   ]
  },
  {
   "cell_type": "markdown",
   "metadata": {},
   "source": [
    "### 3) Trace exceeds P% of time over mean + n times SD"
   ]
  },
  {
   "cell_type": "markdown",
   "metadata": {},
   "source": [
    "Add mean and SD over time for each channel trace, as columns"
   ]
  },
  {
   "cell_type": "code",
   "execution_count": null,
   "metadata": {},
   "outputs": [],
   "source": [
    "for i in range(n_ch_tot):\n",
    "    df[ch_col[i]+'_mean'] = df[ch_col[i]].map(lambda x: np.array(x).mean())\n",
    "    df[ch_col[i]+'_std'] = df[ch_col[i]].map(lambda x: np.array(x).std())"
   ]
  },
  {
   "cell_type": "code",
   "execution_count": null,
   "metadata": {},
   "outputs": [],
   "source": [
    "P = .01\n",
    "n = 4\n",
    "df['artifacts'] = np.nan #artifacts\n",
    "df['artifacts'] = df['artifacts'].astype(object)\n",
    "\n",
    "for trialN in df.index:\n",
    "    ch_list = []\n",
    "    \n",
    "    for chN, ch in enumerate(ch_col):\n",
    "        s = (abs(np.array(df[ch][trialN]))>=df[ch+'_mean'][trialN]+n*df[ch+'_std'][trialN]).sum()\n",
    "        \n",
    "        if s > P*df['t_steps'][trialN]:\n",
    "            ch_list.append(chN)\n",
    "    \n",
    "    df.at[trialN, 'artifacts'] = ch_list"
   ]
  },
  {
   "cell_type": "code",
   "execution_count": null,
   "metadata": {},
   "outputs": [],
   "source": [
    "df['artifacts']"
   ]
  },
  {
   "cell_type": "markdown",
   "metadata": {},
   "source": [
    "## Automated: convert list into dataframe with 0-1s for good-faulty traces"
   ]
  },
  {
   "cell_type": "code",
   "execution_count": 25,
   "metadata": {},
   "outputs": [],
   "source": [
    "df_ch = pd.DataFrame(df_ch_list) # list into dataframe\n",
    "chN_del = [np.nonzero(df_ch_list[trialN])[0].tolist() for trialN in df.index] # drop zeros to keep channel indeces\n",
    "df_ch.columns = ch_col"
   ]
  },
  {
   "cell_type": "markdown",
   "metadata": {},
   "source": [
    "Save faulty traces per trial in dataframes"
   ]
  },
  {
   "cell_type": "code",
   "execution_count": 26,
   "metadata": {},
   "outputs": [],
   "source": [
    "df['chN_del'] = chN_del # number of bad channels - integers\n",
    "df['ch_del'] = [['ch'+str(i) for i in df['chN_del'][trialN]] for trialN in df.index] # bad channels - strings\n",
    "df_ch['ch_del'] = df['ch_del'].copy()\n",
    "df_ch['chN_del'] = df['chN_del'].copy()"
   ]
  },
  {
   "cell_type": "markdown",
   "metadata": {},
   "source": [
    "## Regardless of manual or automated method"
   ]
  },
  {
   "cell_type": "markdown",
   "metadata": {},
   "source": [
    "#### Examples"
   ]
  },
  {
   "cell_type": "code",
   "execution_count": 27,
   "metadata": {
    "scrolled": true
   },
   "outputs": [
    {
     "data": {
      "text/plain": [
       "array([ 7,  2, 13,  4, 25,  8,  2, 19,  4, 13, 17,  9, 15, 15, 13, 13,  9,\n",
       "        8,  9,  7, 11,  2, 16, 13, 15, 12, 17, 18, 13, 18,  7, 10],\n",
       "      dtype=int64)"
      ]
     },
     "execution_count": 27,
     "metadata": {},
     "output_type": "execute_result"
    }
   ],
   "source": [
    "df_ch.sum(axis=0).values # number of faulty traces across channel number\n",
    "df_ch.sum(axis=1).values # number of faulty traces across trial number"
   ]
  },
  {
   "cell_type": "markdown",
   "metadata": {},
   "source": [
    "### Analyse most frequently faulty channels"
   ]
  },
  {
   "cell_type": "markdown",
   "metadata": {},
   "source": [
    "Create merged list of channels from all trials for plotting distribution"
   ]
  },
  {
   "cell_type": "code",
   "execution_count": 28,
   "metadata": {},
   "outputs": [
    {
     "name": "stdout",
     "output_type": "stream",
     "text": [
      "Total traces to be potentially discarded: 364 / 6144 = 5.924479166666666 %\n"
     ]
    }
   ],
   "source": [
    "chN_del_list = []\n",
    "for i in chN_del:\n",
    "    chN_del_list += i\n",
    "print ('Total traces to be potentially discarded:',\n",
    "       len(chN_del_list),'/',n_ch_tot*len(df.index),'=',\n",
    "       len(chN_del_list)/(n_ch_tot*len(df.index))*100,'%')"
   ]
  },
  {
   "cell_type": "code",
   "execution_count": 29,
   "metadata": {
    "scrolled": true
   },
   "outputs": [
    {
     "data": {
      "image/png": "[encoded data removed]",
      "text/plain": [
       "<Figure size 432x288 with 1 Axes>"
      ]
     },
     "metadata": {
      "needs_background": "light"
     },
     "output_type": "display_data"
    }
   ],
   "source": [
    "counts = plt.hist(chN_del_list, bins=n_ch_tot, density=True, color='k')\n",
    "plt.xlabel('Channel #')\n",
    "plt.ylabel('Frequency')\n",
    "plt.show()"
   ]
  },
  {
   "cell_type": "markdown",
   "metadata": {},
   "source": [
    "# Clean dataframe"
   ]
  },
  {
   "cell_type": "code",
   "execution_count": 30,
   "metadata": {},
   "outputs": [],
   "source": [
    "df_copy = df.copy()\n",
    "#df_copy.to_csv(folder+'df_copy') # save copy before cleaning: this is time-consuming, uncomment only if needed"
   ]
  },
  {
   "cell_type": "code",
   "execution_count": 31,
   "metadata": {},
   "outputs": [],
   "source": [
    "df = df.drop(['set1', 'set2', 'set3','set'], axis=1) # drop redundant data"
   ]
  },
  {
   "cell_type": "markdown",
   "metadata": {},
   "source": [
    "### Deleting trace for faulty traces"
   ]
  },
  {
   "cell_type": "code",
   "execution_count": 32,
   "metadata": {},
   "outputs": [],
   "source": [
    "df[ch_col] = df_ch[ch_col]*df[ch_col]\n",
    "#df.to_csv(folder+'df_clean') # save file with clean dataframe: this is time-consuming, uncomment only if needed\n",
    "df_ch.to_csv(folder+'df_ch') # save file with 0-1s dataframe"
   ]
  },
  {
   "cell_type": "markdown",
   "metadata": {},
   "source": [
    "### Single files with bad channels for each trial"
   ]
  },
  {
   "cell_type": "code",
   "execution_count": 33,
   "metadata": {},
   "outputs": [],
   "source": [
    "file_list_ch_del = [file_list[trialN].replace('.mat', '_ch.csv') for trialN in df.index]\n",
    "\n",
    "for trialN, file_name in enumerate(file_list_ch_del):\n",
    "    df_ch.loc[[trialN]].to_csv(file_name)"
   ]
  },
  {
   "cell_type": "markdown",
   "metadata": {},
   "source": [
    "Example to call file"
   ]
  },
  {
   "cell_type": "code",
   "execution_count": 34,
   "metadata": {},
   "outputs": [
    {
     "data": {
      "text/html": [
       "<div>\n",
       "<style scoped>\n",
       "    .dataframe tbody tr th:only-of-type {\n",
       "        vertical-align: middle;\n",
       "    }\n",
       "\n",
       "    .dataframe tbody tr th {\n",
       "        vertical-align: top;\n",
       "    }\n",
       "\n",
       "    .dataframe thead th {\n",
       "        text-align: right;\n",
       "    }\n",
       "</style>\n",
       "<table border=\"1\" class=\"dataframe\">\n",
       "  <thead>\n",
       "    <tr style=\"text-align: right;\">\n",
       "      <th></th>\n",
       "      <th>ch1</th>\n",
       "      <th>ch2</th>\n",
       "      <th>ch3</th>\n",
       "      <th>ch4</th>\n",
       "      <th>ch5</th>\n",
       "      <th>ch6</th>\n",
       "      <th>ch7</th>\n",
       "      <th>ch8</th>\n",
       "      <th>ch9</th>\n",
       "      <th>ch10</th>\n",
       "      <th>...</th>\n",
       "      <th>ch185</th>\n",
       "      <th>ch186</th>\n",
       "      <th>ch187</th>\n",
       "      <th>ch188</th>\n",
       "      <th>ch189</th>\n",
       "      <th>ch190</th>\n",
       "      <th>ch191</th>\n",
       "      <th>ch192</th>\n",
       "      <th>ch_del</th>\n",
       "      <th>chN_del</th>\n",
       "    </tr>\n",
       "  </thead>\n",
       "  <tbody>\n",
       "    <tr>\n",
       "      <th>31</th>\n",
       "      <td>False</td>\n",
       "      <td>False</td>\n",
       "      <td>False</td>\n",
       "      <td>False</td>\n",
       "      <td>False</td>\n",
       "      <td>False</td>\n",
       "      <td>False</td>\n",
       "      <td>False</td>\n",
       "      <td>False</td>\n",
       "      <td>False</td>\n",
       "      <td>...</td>\n",
       "      <td>False</td>\n",
       "      <td>False</td>\n",
       "      <td>False</td>\n",
       "      <td>False</td>\n",
       "      <td>False</td>\n",
       "      <td>False</td>\n",
       "      <td>False</td>\n",
       "      <td>False</td>\n",
       "      <td>['ch80', 'ch87', 'ch111', 'ch119', 'ch125', 'c...</td>\n",
       "      <td>[80, 87, 111, 119, 125, 135, 143, 151, 175, 183]</td>\n",
       "    </tr>\n",
       "  </tbody>\n",
       "</table>\n",
       "<p>1 rows × 194 columns</p>\n",
       "</div>"
      ],
      "text/plain": [
       "      ch1    ch2    ch3    ch4    ch5    ch6    ch7    ch8    ch9   ch10  \\\n",
       "31  False  False  False  False  False  False  False  False  False  False   \n",
       "\n",
       "                          ...                         ch185  ch186  ch187  \\\n",
       "31                        ...                         False  False  False   \n",
       "\n",
       "    ch188  ch189  ch190  ch191  ch192  \\\n",
       "31  False  False  False  False  False   \n",
       "\n",
       "                                               ch_del  \\\n",
       "31  ['ch80', 'ch87', 'ch111', 'ch119', 'ch125', 'c...   \n",
       "\n",
       "                                             chN_del  \n",
       "31  [80, 87, 111, 119, 125, 135, 143, 151, 175, 183]  \n",
       "\n",
       "[1 rows x 194 columns]"
      ]
     },
     "execution_count": 34,
     "metadata": {},
     "output_type": "execute_result"
    }
   ],
   "source": [
    "df_read = pd.read_csv(file_name, index_col=0)\n",
    "df_read\n",
    "#df_read.iloc[0] #first row"
   ]
  },
  {
   "cell_type": "markdown",
   "metadata": {},
   "source": [
    "# Time-frequency decomposition"
   ]
  },
  {
   "cell_type": "code",
   "execution_count": null,
   "metadata": {},
   "outputs": [],
   "source": [
    "#low Tukey parameter\n",
    "TASK_NAME = 'knife'\n",
    "trialN = 3\n",
    "channelN = 'ch10'\n",
    "\n",
    "x = np.array(df[df.task==TASK_NAME][channelN].iloc[trialN])\n",
    "#x = np.array(df[df.task==TASK_NAME][channelN].iloc[trialN])\n",
    "x = x - x.mean() # delete mean signal\n",
    "\n",
    "f, t, Sxx = signal.spectrogram(x, fs, window=('tukey', 0.001))\n",
    "\n",
    "plt.figure(figsize=(8, 4))\n",
    "plt.pcolormesh(t, f, Sxx)\n",
    "plt.ylabel('Frequency [Hz]')\n",
    "plt.ylim([20,200])\n",
    "plt.show()"
   ]
  },
  {
   "cell_type": "code",
   "execution_count": null,
   "metadata": {},
   "outputs": [],
   "source": [
    "#high Tukey parameter\n",
    "f, t, Sxx = signal.spectrogram(x, fs, window=('tukey', 1))\n",
    "\n",
    "plt.figure(figsize=(8, 4))\n",
    "plt.pcolormesh(t, f, Sxx)\n",
    "plt.ylabel('Frequency [Hz]')\n",
    "plt.ylim([20,200])\n",
    "plt.show()"
   ]
  },
  {
   "cell_type": "code",
   "execution_count": null,
   "metadata": {},
   "outputs": [],
   "source": [
    "# look for best time-frequency resolution"
   ]
  },
  {
   "cell_type": "code",
   "execution_count": null,
   "metadata": {},
   "outputs": [],
   "source": [
    "p = []\n",
    "for i in range(1,10000):\n",
    "    f, t, Sxx = signal.spectrogram(x, fs, window=('tukey', 0.001), nperseg=int(len(x)/i))\n",
    "    p.append(np.size(Sxx))"
   ]
  },
  {
   "cell_type": "code",
   "execution_count": null,
   "metadata": {},
   "outputs": [],
   "source": [
    "plt.figure(figsize=(10,3))\n",
    "ax = plt.subplot(121)\n",
    "ax.plot(p)\n",
    "ax.set_ylabel('Matrix size')\n",
    "ax.set_xlim([0, 4000])\n",
    "\n",
    "i = 500\n",
    "\n",
    "ax = plt.subplot(122)\n",
    "f, t, Sxx = signal.spectrogram(x, fs, window=('tukey', 1), nperseg=int(len(x)/i))\n",
    "ax.pcolormesh(t, f, Sxx)\n",
    "ax.set_xlabel('Time')\n",
    "ax.set_ylabel('Frequency')\n",
    "\n",
    "plt.tight_layout()\n",
    "plt.show()"
   ]
  },
  {
   "cell_type": "markdown",
   "metadata": {},
   "source": [
    "same length for different signals (e.g. 100-150 ms)"
   ]
  },
  {
   "cell_type": "code",
   "execution_count": null,
   "metadata": {},
   "outputs": [],
   "source": [
    "f"
   ]
  },
  {
   "cell_type": "code",
   "execution_count": null,
   "metadata": {},
   "outputs": [],
   "source": [
    "TASK_NAME = 'typing'\n",
    "trialN = 3\n",
    "channelN = 'ch9'\n",
    "\n",
    "x = np.array(df[df.task==TASK_NAME][channelN].iloc[trialN])\n",
    "#x = np.array(df[df.task==TASK_NAME][channelN].iloc[trialN])\n",
    "#x = x - x.mean() # delete mean signal\n",
    "\n",
    "f, t, Sxx = signal.spectrogram(x, fs)\n",
    "\n",
    "plt.figure(figsize=(18, 2))\n",
    "ax = plt.subplot(131)\n",
    "plt.pcolormesh(t, f, Sxx)\n",
    "ax.set_ylabel('Frequency [Hz]')\n",
    "\n",
    "ax = plt.subplot(132)\n",
    "plt.pcolormesh(t, f, Sxx, cmap='hot')\n",
    "ax.set_ylim([40,200])\n",
    "#ax.set_xlim([6,8])\n",
    "plt.colorbar()\n",
    "\n",
    "ax = plt.subplot(133)\n",
    "plt.pcolormesh(t, f, Sxx, cmap='binary')\n",
    "\n",
    "plt.xlabel('Time [sec]')\n",
    "plt.show()"
   ]
  },
  {
   "cell_type": "code",
   "execution_count": null,
   "metadata": {},
   "outputs": [],
   "source": [
    "# different plotting, with 10 log_10 scale\n",
    "f, t, Sxx = signal.spectrogram(x, fs)\n",
    "\n",
    "plt.figure(figsize=(18, 2))\n",
    "ax = plt.subplot(131)\n",
    "plt.pcolormesh(t, f, 10*np.log10(Sxx))\n",
    "ax.set_ylabel('Frequency [Hz]')\n",
    "plt.colorbar()\n",
    "\n",
    "ax = plt.subplot(132)\n",
    "plt.pcolormesh(t, f, 10*np.log10(Sxx), cmap='hot')\n",
    "ax.set_ylim([40,350])\n",
    "ax.set_xlim([6,8])\n",
    "#plt.colorbar()\n",
    "\n",
    "ax = plt.subplot(133)\n",
    "plt.pcolormesh(t, f, 10*np.log10(Sxx), cmap='binary')\n",
    "\n",
    "plt.xlabel('Time [sec]')\n",
    "plt.show()"
   ]
  },
  {
   "cell_type": "code",
   "execution_count": null,
   "metadata": {},
   "outputs": [],
   "source": [
    "#different package: specgram, plots directly, using 10 log_10 scale"
   ]
  },
  {
   "cell_type": "code",
   "execution_count": null,
   "metadata": {},
   "outputs": [],
   "source": [
    "#NFFT = 128\n",
    "Fs = fs\n",
    "#noverlap = \n",
    "\n",
    "#NFFT = int(Fs*0.05)\n",
    "#noverlap = int(Fs*0.00000001)\n",
    "\n",
    "NFFT = 259\n",
    "noverlap = 129\n",
    "\n",
    "pylab.figure(1)\n",
    "pylab.specgram(x, NFFT=NFFT, Fs=Fs/2, noverlap=noverlap, cmap='hot')\n",
    "plt.colorbar()\n",
    "plt.show()"
   ]
  },
  {
   "cell_type": "code",
   "execution_count": null,
   "metadata": {},
   "outputs": [],
   "source": [
    "# try different task, and removing the mean signal"
   ]
  },
  {
   "cell_type": "code",
   "execution_count": null,
   "metadata": {},
   "outputs": [],
   "source": [
    "TASK_NAME = 'screw'\n",
    "trialN = 4\n",
    "channelN = 'ch10'\n",
    "\n",
    "x = np.array(df[df.task==TASK_NAME][channelN].iloc[trialN])\n",
    "x = x - x.mean()"
   ]
  },
  {
   "cell_type": "code",
   "execution_count": null,
   "metadata": {},
   "outputs": [],
   "source": [
    "Pxx, freqs, bins, im = plt.specgram(x, NFFT=int(1028/2), Fs=fs)\n",
    "plt.colorbar()\n",
    "plt.show()"
   ]
  },
  {
   "cell_type": "markdown",
   "metadata": {},
   "source": [
    "Compare trials over channels for one task (within subject)"
   ]
  },
  {
   "cell_type": "code",
   "execution_count": null,
   "metadata": {},
   "outputs": [],
   "source": [
    "TASK_NAME = 'knife'\n",
    "trialN_tot = np.size(df[df.task==TASK_NAME],0)\n",
    "\n",
    "plt.figure(figsize=(16, 16))\n",
    " \n",
    "#for ch in range(n_ch_tot): #each channel, rows\n",
    "for ch in range(n_ch**2): #each channel, rows\n",
    "    for trialN in range(trialN_tot): #each trial, columns\n",
    "        \n",
    "        ax = plt.subplot(n_ch**2, trialN_tot, trialN_tot*ch+trialN+1)\n",
    "        #ax = plt.subplot(192, 5, 5*ch+trialN+1 )\n",
    "        #ax = plt.subplot((n_ch_tot,np.size(df[df.task==TASK_NAME],0),trialN_tot*ch+trialN+1)\n",
    "        \n",
    "        channelN = 'ch'+str(ch+1)\n",
    "        x = np.array(df[df.task==TASK_NAME][channelN].iloc[trialN])\n",
    "        f, t, Sxx = signal.spectrogram(x, fs)\n",
    "        ax.pcolormesh(t, f, Sxx, cmap='hot')\n",
    "        ax.set_ylim([0, 300])\n",
    "        \n",
    "        if trialN == 0:\n",
    "            ax.set_ylabel('ch'+str(ch+1))\n",
    "            \n",
    "        if ch == 0:\n",
    "            ax.set_title('Trial #'+str(trialN+1))\n",
    "        \n",
    "        #ax.set_axis_off()\n",
    "plt.tight_layout\n",
    "plt.show()"
   ]
  },
  {
   "cell_type": "markdown",
   "metadata": {},
   "source": [
    "It would be better to split on more columns, on a larger window."
   ]
  },
  {
   "cell_type": "markdown",
   "metadata": {},
   "source": [
    "Prediction with just action onset?"
   ]
  },
  {
   "cell_type": "markdown",
   "metadata": {},
   "source": [
    "All matrix"
   ]
  },
  {
   "cell_type": "code",
   "execution_count": null,
   "metadata": {},
   "outputs": [],
   "source": [
    "trialN_tot = len(df.index)\n",
    "\n",
    "Th = .05 # threshold\n",
    "t_W = 5\n",
    "f_W = 16\n",
    "\n",
    "time_dim = np.zeros((n_ch_tot, trialN_tot, t_W))\n",
    "freq_dim = np.zeros((trialN_tot, n_ch_tot))\n",
    "\n",
    "p_tot = f_W*t_W*n_ch_tot\n",
    "\n",
    "df['pred'] = ''\n",
    "\n",
    "for w in range(p_tot):\n",
    "    df['p'+str(w)] = ''\n",
    "\n",
    "for trialN in df.index: #each trial, columns\n",
    "    \n",
    "    F = []\n",
    "    \n",
    "    for chN, ch in enumerate(ch_col): #each channel, rows\n",
    "\n",
    "        x = np.array(df[ch].loc[trialN])\n",
    "        \n",
    "        #if np.isnan(x[0])==False:\n",
    "        if x.size > 0:\n",
    "            f, t, Sxx = signal.spectrogram(x, fs)\n",
    "        \n",
    "            ind = np.where(Sxx/np.max(Sxx) > Th) #5% threshold\n",
    "            time_dim[chN, trialN, :] = np.unique(ind[0])[0:t_W]\n",
    "            \n",
    "            freq_dim[trialN, chN] = np.argmax(np.sum(Sxx[:, time_dim[chN,trialN,:].astype(int)], axis=1))\n",
    "            W = np.reshape(Sxx[0:f_W, time_dim[chN,trialN,:].astype(int)], (t_W*f_W)) #time-frequency window of interest\n",
    "            F.append(W)\n",
    "        else:\n",
    "            W = (np.nan,)*(t_W*f_W) #time-frequency window of interest\n",
    "            F.append(W)\n",
    "    \n",
    "    #df['pred'].loc[trialN] = np.reshape(F, p_tot)\n",
    "    df.at[trialN, 'pred']= np.reshape(F, p_tot)\n",
    "\n",
    "df['freq'] = freq_dim.tolist()"
   ]
  },
  {
   "cell_type": "markdown",
   "metadata": {},
   "source": [
    "A column for each t-f pixel"
   ]
  },
  {
   "cell_type": "code",
   "execution_count": null,
   "metadata": {},
   "outputs": [],
   "source": [
    "p_col = df.columns[ df.columns.get_loc('p0') : df.columns.get_loc('p0') + p_tot]"
   ]
  },
  {
   "cell_type": "code",
   "execution_count": null,
   "metadata": {},
   "outputs": [],
   "source": [
    "df[p_col] = df['pred'].tolist()"
   ]
  },
  {
   "cell_type": "markdown",
   "metadata": {},
   "source": [
    "Set ticks for heat map"
   ]
  },
  {
   "cell_type": "code",
   "execution_count": null,
   "metadata": {},
   "outputs": [],
   "source": [
    "yticks = []\n",
    "yticks.append(np.size(df[df.task==task_names[0]].trial)/2)\n",
    "\n",
    "for i in range(1, len(task_names)):\n",
    "    yticks.append(np.size(df[df.task==task_names[i]].trial)/2+np.size(df[df.task==task_names[i-1]].trial)/2+yticks[i-1])"
   ]
  },
  {
   "cell_type": "markdown",
   "metadata": {},
   "source": [
    "Plot heat map"
   ]
  },
  {
   "cell_type": "code",
   "execution_count": null,
   "metadata": {},
   "outputs": [],
   "source": [
    "plt.figure(figsize=(16,40))\n",
    "ax = plt.gca()\n",
    "\n",
    "im = ax.imshow(freq_dim, interpolation='nearest', cmap=cm.jet, vmax=freq_dim.max(), vmin=0)\n",
    "#im = ax.imshow(freq_dim, interpolation='nearest', cmap=cm.jet, vmax=10, vmin=0)\n",
    "\n",
    "# create an axes on the right side of ax. The width of cax will be 5%\n",
    "# of ax and the padding between cax and ax will be fixed at 0.05 inch.\n",
    "divider = make_axes_locatable(ax)\n",
    "cax = divider.append_axes(\"right\", size=\"5%\", pad=0.05)\n",
    "\n",
    "ax.set_yticks(yticks)\n",
    "ax.set_yticklabels(task_names)\n",
    "\n",
    "plt.colorbar(im, cax=cax)\n",
    "plt.ylabel('Frequency (Hz)')\n",
    "ax.set_xlabel('channel #')\n",
    "ax.set_ylabel('trial #')\n",
    "ax.set_title('Frequency with greatest contribution')\n",
    "plt.show()"
   ]
  },
  {
   "cell_type": "markdown",
   "metadata": {},
   "source": [
    "- check time-frequency resolution in spectrogram (check time length from spectogram properties)\n",
    "- create time-frequency window\n",
    "- reshape it into array for prediction"
   ]
  },
  {
   "cell_type": "markdown",
   "metadata": {},
   "source": [
    "## Classifiers"
   ]
  },
  {
   "cell_type": "code",
   "execution_count": null,
   "metadata": {},
   "outputs": [],
   "source": [
    "import sklearn\n",
    "from sklearn.ensemble import RandomForestClassifier\n",
    "from sklearn.svm import SVC\n",
    "from sklearn.neural_network import MLPClassifier\n",
    "from sklearn.preprocessing import StandardScaler  \n",
    "from sklearn.metrics import mean_squared_error\n",
    "from sklearn.model_selection import train_test_split\n",
    "from sklearn.model_selection import KFold"
   ]
  },
  {
   "cell_type": "code",
   "execution_count": null,
   "metadata": {},
   "outputs": [],
   "source": [
    "predictors=p_col"
   ]
  },
  {
   "cell_type": "code",
   "execution_count": null,
   "metadata": {},
   "outputs": [],
   "source": [
    "X = df[predictors].fillna(0, inplace=False)\n",
    "y = df['task']"
   ]
  },
  {
   "cell_type": "code",
   "execution_count": null,
   "metadata": {},
   "outputs": [],
   "source": [
    "X"
   ]
  },
  {
   "cell_type": "code",
   "execution_count": null,
   "metadata": {},
   "outputs": [],
   "source": [
    "y"
   ]
  },
  {
   "cell_type": "markdown",
   "metadata": {},
   "source": [
    "Use imputer from sklearn"
   ]
  },
  {
   "cell_type": "code",
   "execution_count": null,
   "metadata": {},
   "outputs": [],
   "source": [
    "#SVM = sklearn.svm.SVC(kernel='rbf')\n",
    "#SVM.fit(X, y)  \n",
    "#SVM.score(X,y)\n",
    "\n",
    "rfc = RandomForestClassifier()\n",
    "rfc.fit(X, y)\n",
    "rfc.score(X,y)"
   ]
  },
  {
   "cell_type": "code",
   "execution_count": null,
   "metadata": {},
   "outputs": [],
   "source": [
    "#scoreSVM=([]);\n",
    "scoreRFC=([]);"
   ]
  },
  {
   "cell_type": "code",
   "execution_count": null,
   "metadata": {},
   "outputs": [],
   "source": [
    "kf = KFold(n_splits=5) \n",
    "#KFold(n_splits=2, random_state=None, shuffle=False)"
   ]
  },
  {
   "cell_type": "code",
   "execution_count": null,
   "metadata": {},
   "outputs": [],
   "source": [
    "for train,test in kf.split(X):\n",
    "    \n",
    "    ## SVM\n",
    "    #SVM =  sklearn.svm.SVC(kernel='rbf')\n",
    "    #SVM.fit(X.iloc[train],y.iloc[train])\n",
    "    #scoreSVM.append(SVM.score(X.iloc[test], y.iloc[test])) #accuracy\n",
    "    \n",
    "    ## RFC\n",
    "    RFC =  RandomForestClassifier()\n",
    "    RFC.fit(X.iloc[train],y.iloc[train])\n",
    "    scoreRFC.append(RFC.score(X.iloc[test], y.iloc[test])) #accuracy"
   ]
  },
  {
   "cell_type": "code",
   "execution_count": null,
   "metadata": {},
   "outputs": [],
   "source": [
    "#print (np.mean(scoreSVM))\n",
    "#print (np.std(scoreSVM))\n",
    "#print ()\n",
    "print (np.mean(scoreRFC))\n",
    "print (np.std(scoreRFC))\n",
    "print ('chance line=', 1/len(task_names))"
   ]
  },
  {
   "cell_type": "markdown",
   "metadata": {},
   "source": [
    "With NaN, after artefact pre-processing"
   ]
  },
  {
   "cell_type": "code",
   "execution_count": null,
   "metadata": {},
   "outputs": [],
   "source": [
    "from sklearn.ensemble import RandomForestClassifier\n",
    "from sklearn.preprocessing import Imputer\n",
    "\n",
    "X_train = [[0, 0, np.nan], [np.nan, 1, 1]]\n",
    "Y_train = [0, 1]\n",
    "X_test_1 = [0, 0, np.nan]\n",
    "X_test_2 = [0, np.nan, np.nan]\n",
    "X_test_3 = [np.nan, 1, 1]\n",
    "\n",
    "# Create our imputer to replace missing values with the mean e.g.\n",
    "imp = Imputer(missing_values='NaN', strategy='mean', axis=0)\n",
    "imp = imp.fit(X_train)\n",
    "\n",
    "# Impute our data, then train\n",
    "X_train_imp = imp.transform(X_train)\n",
    "clf = RandomForestClassifier(n_estimators=10)\n",
    "clf = clf.fit(X_train_imp, Y_train)\n",
    "\n",
    "for X_test in [X_test_1, X_test_2, X_test_3]:\n",
    "    # Impute each test item, then predict\n",
    "    X_test_imp = imp.transform(X_test)\n",
    "    print(X_test, '->', clf.predict(X_test_imp))"
   ]
  },
  {
   "cell_type": "code",
   "execution_count": null,
   "metadata": {},
   "outputs": [],
   "source": []
  },
  {
   "cell_type": "code",
   "execution_count": null,
   "metadata": {},
   "outputs": [],
   "source": [
    "np.shape(y_test)"
   ]
  },
  {
   "cell_type": "code",
   "execution_count": null,
   "metadata": {},
   "outputs": [],
   "source": [
    "# Code source: Gaël Varoquaux\n",
    "#              Andreas Müller\n",
    "# Modified for documentation by Jaques Grobler\n",
    "# License: BSD 3 clause\n",
    "\n",
    "from matplotlib.colors import ListedColormap\n",
    "from sklearn.model_selection import train_test_split\n",
    "from sklearn.preprocessing import StandardScaler\n",
    "from sklearn.neural_network import MLPClassifier\n",
    "from sklearn.neighbors import KNeighborsClassifier\n",
    "from sklearn.svm import SVC\n",
    "from sklearn.gaussian_process import GaussianProcessClassifier\n",
    "from sklearn.gaussian_process.kernels import RBF\n",
    "from sklearn.tree import DecisionTreeClassifier\n",
    "from sklearn.ensemble import RandomForestClassifier, AdaBoostClassifier\n",
    "from sklearn.naive_bayes import GaussianNB\n",
    "from sklearn.discriminant_analysis import QuadraticDiscriminantAnalysis\n",
    "\n",
    "h = .02  # step size in the mesh\n",
    "\n",
    "names = [\"Nearest Neighbors\", \"Linear SVM\", \"RBF SVM\", \"Gaussian Process\",\n",
    "         \"Decision Tree\", \"Random Forest\", \"Neural Net\", \"AdaBoost\",\n",
    "         \"Naive Bayes\", \"QDA\"]\n",
    "\n",
    "classifiers = [\n",
    "    KNeighborsClassifier(3),\n",
    "    SVC(kernel=\"linear\", C=0.025),\n",
    "    SVC(gamma=2, C=1),\n",
    "    GaussianProcessClassifier(1.0 * RBF(1.0)),\n",
    "    DecisionTreeClassifier(max_depth=5),\n",
    "    RandomForestClassifier(max_depth=5, n_estimators=10, max_features=1),\n",
    "    MLPClassifier(alpha=1),\n",
    "    AdaBoostClassifier(),\n",
    "    GaussianNB(),\n",
    "    QuadraticDiscriminantAnalysis()]\n",
    "\n",
    "figure = plt.figure(figsize=(27, 9))\n",
    "i = 1\n",
    "# iterate over datasets\n",
    "\n",
    "# preprocess dataset, split into training and test part\n",
    "X = StandardScaler().fit_transform(X)\n",
    "X_train, X_test, y_train, y_test = \\\n",
    "train_test_split(X, y, test_size=.4, random_state=42)\n",
    "\n",
    "x_min, x_max = X[:, 0].min() - .5, X[:, 0].max() + .5\n",
    "y_min, y_max = X[:, 1].min() - .5, X[:, 1].max() + .5\n",
    "xx, yy = np.meshgrid(np.arange(x_min, x_max, h), np.arange(y_min, y_max, h))\n",
    "\n",
    "# just plot the dataset first\n",
    "cm = plt.cm.RdBu\n",
    "cm_bright = ListedColormap(['#FF0000', '#0000FF'])\n",
    "\n",
    "\n",
    "# iterate over classifiers\n",
    "for name, clf in zip(names, classifiers):\n",
    "    \n",
    "    # Plot the training points\n",
    "    ax.scatter(X_train[:, 0], X_train[:, 1], c=y_train, cmap=cm_bright, edgecolors='k')\n",
    "\n",
    "    # Plot the testing points\n",
    "    ax.scatter(X_test[:, 0], X_test[:, 1], c=y_test, cmap=cm_bright, alpha=0.6, edgecolors='k')\n",
    "    ax.set_xlim(xx.min(), xx.max())\n",
    "    ax.set_ylim(yy.min(), yy.max())\n",
    "    ax.set_xticks(())\n",
    "    ax.set_yticks(())\n",
    "    \n",
    "    ax = plt.subplot(len(datasets), len(classifiers) + 1, i)\n",
    "    clf.fit(X_train, y_train)\n",
    "    score = clf.score(X_test, y_test)\n",
    "\n",
    "    # Plot the decision boundary. For that, we will assign a color to each\n",
    "    # point in the mesh [x_min, x_max]x[y_min, y_max].\n",
    "    if hasattr(clf, \"decision_function\"):\n",
    "        Z = clf.decision_function(np.c_[xx.ravel(), yy.ravel()])\n",
    "    else:\n",
    "        Z = clf.predict_proba(np.c_[xx.ravel(), yy.ravel()])[:, 1]\n",
    "\n",
    "    # Put the result into a color plot\n",
    "    Z = Z.reshape(xx.shape)\n",
    "    ax.contourf(xx, yy, Z, cmap=cm, alpha=.8)\n",
    "\n",
    "    # Plot the training points\n",
    "    ax.scatter(X_train[:, 0], X_train[:, 1], c=y_train, cmap=cm_bright, edgecolors='k')\n",
    "    \n",
    "    # Plot the testing points\n",
    "    ax.scatter(X_test[:, 0], X_test[:, 1], c=y_test, cmap=cm_bright, edgecolors='k', alpha=0.6)\n",
    "\n",
    "    ax.set_xlim(xx.min(), xx.max())\n",
    "    ax.set_ylim(yy.min(), yy.max())\n",
    "    ax.set_xticks(())\n",
    "    ax.set_yticks(())\n",
    "    \n",
    "    ax.set_title(name)\n",
    "    ax.text(xx.max() - .3, yy.min() + .3, ('%.2f' % score).lstrip('0'), size=15, horizontalalignment='right')\n",
    "    i += 1\n",
    "\n",
    "plt.tight_layout()\n",
    "plt.show()"
   ]
  },
  {
   "cell_type": "code",
   "execution_count": null,
   "metadata": {},
   "outputs": [],
   "source": [
    "# Code source: Gaël Varoquaux\n",
    "#              Andreas Müller\n",
    "# Modified for documentation by Jaques Grobler\n",
    "# License: BSD 3 clause\n",
    "\n",
    "from matplotlib.colors import ListedColormap\n",
    "from sklearn.model_selection import train_test_split\n",
    "from sklearn.preprocessing import StandardScaler\n",
    "from sklearn.neural_network import MLPClassifier\n",
    "from sklearn.neighbors import KNeighborsClassifier\n",
    "from sklearn.svm import SVC\n",
    "from sklearn.gaussian_process import GaussianProcessClassifier\n",
    "from sklearn.gaussian_process.kernels import RBF\n",
    "from sklearn.tree import DecisionTreeClassifier\n",
    "from sklearn.ensemble import RandomForestClassifier, AdaBoostClassifier\n",
    "from sklearn.naive_bayes import GaussianNB\n",
    "from sklearn.discriminant_analysis import QuadraticDiscriminantAnalysis\n",
    "\n",
    "X = df[predictors].fillna(0, inplace=False)\n",
    "y = df['task']\n",
    "\n",
    "names = [\"Nearest Neighbors\", \"Linear SVM\", \"RBF SVM\", \"Gaussian Process\",\n",
    "         \"Decision Tree\", \"Random Forest\", \"Neural Net\", \"AdaBoost\",\n",
    "         \"Naive Bayes\", \"QDA\"]\n",
    "\n",
    "classifiers = [\n",
    "    KNeighborsClassifier(3),\n",
    "    SVC(kernel=\"linear\", C=0.025),\n",
    "    SVC(gamma=2, C=1),\n",
    "    GaussianProcessClassifier(1 * RBF(1.0)),\n",
    "    DecisionTreeClassifier(max_depth=2),\n",
    "    #RandomForestClassifier(max_depth=5, n_estimators=10, max_features=1)\n",
    "    RandomForestClassifier(),\n",
    "    #MLPClassifier(alpha=10),\n",
    "    MLPClassifier(hidden_layer_sizes=(10)),\n",
    "    AdaBoostClassifier(),\n",
    "    GaussianNB(),\n",
    "    QuadraticDiscriminantAnalysis()]\n",
    "\n",
    "# preprocess dataset, split into training and test part\n",
    "X = StandardScaler().fit_transform(X)\n",
    "X_train, X_test, y_train, y_test = \\\n",
    "train_test_split(X, y, test_size=.4, random_state=42)\n",
    "\n",
    "# iterate over classifiers\n",
    "for name, clf in zip(names, classifiers):\n",
    "    \n",
    "    clf.fit(X_train, y_train)\n",
    "    score = clf.score(X_test, y_test)\n",
    "\n",
    "    print (name)\n",
    "    print (score)\n",
    "    print ()"
   ]
  },
  {
   "cell_type": "code",
   "execution_count": null,
   "metadata": {},
   "outputs": [],
   "source": []
  }
 ],
 "metadata": {
  "kernelspec": {
   "display_name": "Python 3",
   "language": "python",
   "name": "python3"
  },
  "language_info": {
   "codemirror_mode": {
    "name": "ipython",
    "version": 3
   },
   "file_extension": ".py",
   "mimetype": "text/x-python",
   "name": "python",
   "nbconvert_exporter": "python",
   "pygments_lexer": "ipython3",
   "version": "3.7.0"
  }
 },
 "nbformat": 4,
 "nbformat_minor": 2
}
